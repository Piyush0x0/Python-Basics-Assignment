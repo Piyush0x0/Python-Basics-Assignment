{
  "nbformat": 4,
  "nbformat_minor": 0,
  "metadata": {
    "colab": {
      "provenance": []
    },
    "kernelspec": {
      "name": "python3",
      "display_name": "Python 3"
    },
    "language_info": {
      "name": "python"
    }
  },
  "cells": [
    {
      "cell_type": "markdown",
      "source": [
        "# PYTHON BASICS THEORY QUESTIONS"
      ],
      "metadata": {
        "id": "1HTxGK13DlKZ"
      }
    },
    {
      "cell_type": "markdown",
      "source": [
        "**Q1: What is Python, and why is it popular?**\n",
        "    \n",
        "  Ans:Python is a high-level, interpreted programming language known for its simplicity and readability. It is popular due to its extensive libraries, community support, versatility, and suitability for beginners and experts.\n",
        "\n",
        "\n",
        "**Q2:What is an interpreter in Python?**\n",
        "\n",
        "Ans:An interpreter executes Python code line-by-line, converting it into machine-readable instructions, making Python a dynamic and interactive language.\n",
        "\n",
        "\n",
        "**Q3:What are pre-defined keywords in Python?**\n",
        "\n",
        "Ans: Pre-defined keywords are reserved words in Python with special meanings, such as if, else etc.\n",
        "\n",
        "**Q4:Can keywords be used as variable names?**\n",
        "\n",
        "No, keywords cannot be used as variable names because they are reserved for specific purposes in the language.\n",
        "\n",
        "**Q5:What is mutability in Python?**\n",
        "\n",
        "Ans: Mutability refers to whether the value of an object can be changed after its creation. Lists are mutable, while tuples are immutable.\n",
        "\n",
        " **Q6:Why are lists mutable, but tuples are immutable?**\n",
        "\n",
        " Ans:Lists are designed for dynamic data storage where changes are expected, while tuples are used for fixed collections of data for faster performance and memory efficiency.\n",
        "\n",
        " **Q7:What is the difference between “==” and “is” operators in Python?**\n",
        "\n",
        " Ans: == checks for value equality, while is checks for reference equality (whether two variables point to the same object in memory).\n",
        "\n",
        " **Q8: What are logical operators in Python?**\n",
        "\n",
        " Ans:Logical operators include and, or, and not, used to combine conditional statements.\n",
        "\n",
        " **Q9: What is type casting in Python?**\n",
        "\n",
        " Ans:Type casting converts a variable from one data type to another, like converting a string to an integer.\n",
        "\n",
        " **Q10: What is the difference between implicit and explicit type casting?**\n",
        "\n",
        " Ans:Implicit casting is automatic by Python (e.g., int to float), while explicit casting is manually specified by the programmer using functions like int() or float().\n",
        "\n",
        " **Q11: What is the purpose of conditional statements in Python?**\n",
        " Ans: Conditional statements execute specific code blocks based on whether a condition is True or False.\n",
        "\n",
        " **Q12: How does the elif statement work?**\n",
        "\n",
        " Ans: The elif statement provides additional conditions to check after the initial if statement.\n",
        "\n",
        " **Q13: What is the difference between for and while loops?**\n",
        " Ans: A for loop iterates over a sequence, while a while loop continues as long as its condition evaluates to True.\n",
        "\n",
        "\n",
        "**Q14: Describe a scenario where a while loop is more suitable than a for loop.\n",
        "Ans: A while loop is better when the number of iterations is not known in advance, like reading input until a specific value is entered."
      ],
      "metadata": {
        "id": "fV3hMMuUDwMG"
      }
    },
    {
      "cell_type": "markdown",
      "source": [
        "# ***Practical Questions***"
      ],
      "metadata": {
        "id": "40cMCI_R3BeD"
      }
    },
    {
      "cell_type": "markdown",
      "source": [
        "Q15: Write a Python program to print \"Hello, World!\""
      ],
      "metadata": {
        "id": "rzJ0WxwH3iLa"
      }
    },
    {
      "cell_type": "code",
      "source": [
        "print(\"Hello, World!\")"
      ],
      "metadata": {
        "colab": {
          "base_uri": "https://localhost:8080/"
        },
        "id": "ZaMHrnXy3m8O",
        "outputId": "963e23ac-4f04-44a7-b612-e6aae00c3d79"
      },
      "execution_count": 1,
      "outputs": [
        {
          "output_type": "stream",
          "name": "stdout",
          "text": [
            "Hello, World!\n"
          ]
        }
      ]
    },
    {
      "cell_type": "markdown",
      "source": [
        "Q16:Write a Python program that displays your name and age."
      ],
      "metadata": {
        "id": "ZYYpSns537QS"
      }
    },
    {
      "cell_type": "code",
      "source": [
        "name = \"Piyush\"\n",
        "age = 25\n",
        "print(name,age)"
      ],
      "metadata": {
        "id": "uOs7I5MS4POM"
      },
      "execution_count": null,
      "outputs": []
    },
    {
      "cell_type": "markdown",
      "source": [
        "Q17: Write code to print all the pre-defined keywords in Python using the keyword library."
      ],
      "metadata": {
        "id": "YZ56S2Ly67uk"
      }
    },
    {
      "cell_type": "code",
      "source": [
        "help('keywords')"
      ],
      "metadata": {
        "colab": {
          "base_uri": "https://localhost:8080/"
        },
        "id": "ngI56aes6-KB",
        "outputId": "8504220c-70fa-4c38-e834-6da8aab4bb6f"
      },
      "execution_count": 6,
      "outputs": [
        {
          "output_type": "stream",
          "name": "stdout",
          "text": [
            "\n",
            "Here is a list of the Python keywords.  Enter any keyword to get more help.\n",
            "\n",
            "False               class               from                or\n",
            "None                continue            global              pass\n",
            "True                def                 if                  raise\n",
            "and                 del                 import              return\n",
            "as                  elif                in                  try\n",
            "assert              else                is                  while\n",
            "async               except              lambda              with\n",
            "await               finally             nonlocal            yield\n",
            "break               for                 not                 \n",
            "\n"
          ]
        }
      ]
    },
    {
      "cell_type": "markdown",
      "source": [
        "Q18: Write a program that checks if a given word is a Python keyword."
      ],
      "metadata": {
        "id": "u6sj5JtJ8ScM"
      }
    },
    {
      "cell_type": "code",
      "source": [
        "import keyword\n",
        "word = input(\"Enter a word: \")\n",
        "if keyword.iskeyword(word):\n",
        "    print(f\"{word} is a Python keyword.\")\n",
        "else:\n",
        "    print(f\"{word} is not a Python keyword.\")\n"
      ],
      "metadata": {
        "id": "tVHDFclj8Zeq"
      },
      "execution_count": null,
      "outputs": []
    },
    {
      "cell_type": "markdown",
      "source": [
        "Q19: Create a list and tuple in Python, and demonstrate how attempting to change an element works differently for each."
      ],
      "metadata": {
        "id": "JBSJMgkW-q6J"
      }
    },
    {
      "cell_type": "code",
      "source": [
        "List_A = [1,2,3,4,5]\n",
        "Tuple_A = (1,2,3,4,5)\n",
        "#since list is mutable hence its elements can be changed as shown below\n",
        "List_A[1] = 9\n",
        "print(List_A)\n",
        "\n",
        "#but if we try to change the elements of Tuple then it will show an error because it is immutable.\n",
        "Tuple_A[1] = 9\n",
        "print(Tuple_A)\n",
        "#error\n"
      ],
      "metadata": {
        "id": "I_0bsWps_cyx"
      },
      "execution_count": null,
      "outputs": []
    },
    {
      "cell_type": "markdown",
      "source": [
        "Q20:Write a function to demonstrate the behavior of mutable and immutable arguments."
      ],
      "metadata": {
        "id": "3J6k_mqkH3Hs"
      }
    },
    {
      "cell_type": "code",
      "source": [
        "#the element of mutable objects can be changed after creation. eg. List\n",
        "List_A = [1,2,3,4,5]\n",
        "List_A[1] = 595\n",
        "print(List_A)"
      ],
      "metadata": {
        "colab": {
          "base_uri": "https://localhost:8080/"
        },
        "id": "c0n1nUs0H_zO",
        "outputId": "c4322754-d146-42e0-89e2-88d5472283a8"
      },
      "execution_count": 24,
      "outputs": [
        {
          "output_type": "stream",
          "name": "stdout",
          "text": [
            "[1, 595, 3, 4, 5]\n"
          ]
        }
      ]
    },
    {
      "cell_type": "code",
      "source": [
        "# but elements of immutable objects cannot be changed after creation.eg - String\n",
        "String_A = \"Piyush\"\n",
        "String_A[1] = \"z\"\n",
        "print(String_A)\n",
        "#This will show an error because strings are immutable\n"
      ],
      "metadata": {
        "id": "LrlWwDcwIhqa"
      },
      "execution_count": null,
      "outputs": []
    },
    {
      "cell_type": "markdown",
      "source": [
        "Q21: Write a program to demonstrate the use of logical operators."
      ],
      "metadata": {
        "id": "3TbfGU30KWnQ"
      }
    },
    {
      "cell_type": "code",
      "source": [
        "a, b = True, False\n",
        "print(a and b)  # False\n",
        "print(a or b)   # True\n",
        "print(not a)    # False\n",
        "\n"
      ],
      "metadata": {
        "id": "wMgx-MZMKhON"
      },
      "execution_count": null,
      "outputs": []
    },
    {
      "cell_type": "markdown",
      "source": [
        "Q22:Write a Python program to convert user input from string to integer, float, and boolean types."
      ],
      "metadata": {
        "id": "-0r49hvtLAWy"
      }
    },
    {
      "cell_type": "code",
      "source": [
        "String_value= input(\"Enter a value: \")\n",
        "print(int(String_value), float(String_value), bool(String_value))\n"
      ],
      "metadata": {
        "id": "mv87pFyiLIW8"
      },
      "execution_count": null,
      "outputs": []
    },
    {
      "cell_type": "markdown",
      "source": [
        "Q23: Write code to demonstrate type casting with list elements."
      ],
      "metadata": {
        "id": "8DA7GFXfMTmz"
      }
    },
    {
      "cell_type": "code",
      "source": [
        "A = [\"1\", \"2\", \"3\"]\n",
        "B = [int(a) for a in A]\n",
        "print(B)\n",
        "#here A is a list with string elements which are converted to integers in list B."
      ],
      "metadata": {
        "colab": {
          "base_uri": "https://localhost:8080/"
        },
        "id": "425an9fmMuWL",
        "outputId": "aea96f4e-22c2-4c22-8edc-111dd245129d"
      },
      "execution_count": 3,
      "outputs": [
        {
          "output_type": "stream",
          "name": "stdout",
          "text": [
            "[1, 2, 3]\n"
          ]
        }
      ]
    },
    {
      "cell_type": "markdown",
      "source": [
        "Q24:Write a program that checks if a number is positive, negative, or zero.\n"
      ],
      "metadata": {
        "id": "LsUrrOXdWHMB"
      }
    },
    {
      "cell_type": "code",
      "source": [
        "a = int(input(\"Enter a number: \"))\n",
        "if a > 0:\n",
        "    print(\"Positive\")\n",
        "elif a < 0:\n",
        "    print(\"Negative\")\n",
        "else:\n",
        "    print(\"Zero\")"
      ],
      "metadata": {
        "id": "ZLjrOnjRWPeE"
      },
      "execution_count": null,
      "outputs": []
    },
    {
      "cell_type": "markdown",
      "source": [
        "Q25:Write a for loop to print numbers from 1 to 10."
      ],
      "metadata": {
        "id": "yUFTYAqdWzG2"
      }
    },
    {
      "cell_type": "code",
      "source": [
        "for i in range(1,11):\n",
        "    print(i)"
      ],
      "metadata": {
        "id": "PVuN8UB_W30w"
      },
      "execution_count": null,
      "outputs": []
    },
    {
      "cell_type": "markdown",
      "source": [
        "Q26: Write a Python program to find the sum of all even numbers between 1 and 50."
      ],
      "metadata": {
        "id": "KiIvSEViXXM7"
      }
    },
    {
      "cell_type": "code",
      "source": [
        "print(sum(x for x in range(1, 51) if x % 2 == 0))"
      ],
      "metadata": {
        "id": "yLYSNybRYllO"
      },
      "execution_count": null,
      "outputs": []
    },
    {
      "cell_type": "markdown",
      "source": [
        "Q27:Write a program to reverse a string using a while loop."
      ],
      "metadata": {
        "id": "_63NkREIZlck"
      }
    },
    {
      "cell_type": "code",
      "source": [
        "string = input(\"Enter a string: \")\n",
        "anti_string = \"\"\n",
        "i = len(string) - 1\n",
        "while i >= 0:\n",
        "    anti_string += string[i]\n",
        "    i -= 1\n",
        "print(anti_string)\n"
      ],
      "metadata": {
        "id": "zZAIRvtFZscc"
      },
      "execution_count": null,
      "outputs": []
    },
    {
      "cell_type": "markdown",
      "source": [
        "Q28:Write a Python program to calculate the factorial of a number provided by the user using a while loop."
      ],
      "metadata": {
        "id": "qYp_ikone11l"
      }
    },
    {
      "cell_type": "code",
      "source": [
        "num = int(input(\"Enter a number: \"))\n",
        "factorial = 1\n",
        "while num > 0:\n",
        "    factorial *= num\n",
        "    num -= 1\n",
        "print(f\"The factorial is {factorial}\")\n"
      ],
      "metadata": {
        "id": "6hQmnOsme37Q"
      },
      "execution_count": null,
      "outputs": []
    },
    {
      "cell_type": "code",
      "source": [],
      "metadata": {
        "id": "Jui6Cd33clSa"
      },
      "execution_count": null,
      "outputs": []
    }
  ]
}